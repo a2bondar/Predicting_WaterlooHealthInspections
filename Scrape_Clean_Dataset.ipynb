{
 "cells": [
  {
   "cell_type": "markdown",
   "metadata": {},
   "source": [
    "# Gathering all the data, then doing a clean for a master dataset."
   ]
  },
  {
   "cell_type": "code",
   "execution_count": null,
   "metadata": {
    "collapsed": true
   },
   "outputs": [],
   "source": [
    "# Import the needed libraries\n",
    "import numpy as np\n",
    "import pandas as pd\n",
    "from datetime import datetime as dt\n",
    "import itertools\n"
   ]
  },
  {
   "cell_type": "code",
   "execution_count": null,
   "metadata": {
    "collapsed": true
   },
   "outputs": [],
   "source": [
    "# Load CSV data sets into a dataframe\n",
    "\n",
    "loc = \"/mnt/c/Users/anton/Documents/Projects/Predicting_WaterlooHealthInspections/datasets/\"\n",
    "\n",
    "raw_dataset_0 = pd.read_csv(loc + 'Facilities_OpenData.csv')\n",
    "raw_dataset_1 = pd.read_csv(loc + 'Infractions_OpenData.csv')\n",
    "raw_dataset_2 = pd.read_csv(loc + 'Inspections_OpenData.csv')"
   ]
  },
  {
   "cell_type": "code",
   "execution_count": null,
   "metadata": {
    "collapsed": true
   },
   "outputs": [],
   "source": [
    "# Parse data as time \n",
    "\n",
    "def parse_date1(date):\n",
    "    if date == '':\n",
    "        return None\n",
    "    else:\n",
    "        return dt.strptime(date, '%Y-%m-%d').date()\n",
    "\n",
    "# two different date formats present\n",
    "def parse_date2(date):\n",
    "    if date == '':\n",
    "        return None\n",
    "    else:\n",
    "        return dt.strptime(date, '%Y/%m/%d').date()\n",
    "\n",
    "\n",
    "raw_dataset_1.InspectionDate = raw_dataset_1.InspectionDate.apply(parse_date1)\n",
    "raw_dataset_2.INSPECTION_DATE = raw_dataset_2.INSPECTION_DATE.apply(parse_date2)\n"
   ]
  },
  {
   "cell_type": "code",
   "execution_count": null,
   "metadata": {
    "collapsed": true
   },
   "outputs": [],
   "source": []
  }
 ],
 "metadata": {
  "kernelspec": {
   "display_name": "Python 3",
   "language": "python",
   "name": "python3"
  },
  "language_info": {
   "codemirror_mode": {
    "name": "ipython",
    "version": 3
   },
   "file_extension": ".py",
   "mimetype": "text/x-python",
   "name": "python",
   "nbconvert_exporter": "python",
   "pygments_lexer": "ipython3",
   "version": "3.5.2"
  }
 },
 "nbformat": 4,
 "nbformat_minor": 2
}
